{
 "cells": [
  {
   "cell_type": "markdown",
   "metadata": {},
   "source": [
    "# Understanding the MSI file\n",
    "The Matrix Signal Information (MSI) file describes the information that is shown on the matrix signs above highways. This information can be imported in a csv file, where each line describes a change in MSI. We want to process this information, until we can deduce:\n",
    "- For any time and any location on the highway (hectometer marker, inside the range), the available lanes and maximum speeds.\n",
    "\n",
    "We will find this by first looking in the excel file \"backwards over the highway\", looking for the closest matrix sign. Then, we will search backwards in time for the latest update."
   ]
  },
  {
   "cell_type": "code",
   "execution_count": 3,
   "metadata": {},
   "outputs": [],
   "source": [
    "import numpy as np\n",
    "import pandas as pd\n",
    "import matplotlib.pyplot as plt\n",
    "import os"
   ]
  },
  {
   "cell_type": "code",
   "execution_count": 4,
   "metadata": {},
   "outputs": [],
   "source": [
    "# Define paths\n",
    "datafolder = os.path.join(os.path.dirname(os.getcwd()), \"data\", \"short_highway\")\n",
    "datafolder_msi = os.path.join(datafolder, \"msi-export\")\n",
    "file1_path = os.path.join(datafolder_msi, \"msi-export.csv\")"
   ]
  },
  {
   "cell_type": "code",
   "execution_count": 7,
   "metadata": {},
   "outputs": [],
   "source": [
    "# import file into pd.df\n",
    "df = pd.read_csv(file1_path, low_memory=False)"
   ]
  },
  {
   "cell_type": "code",
   "execution_count": 8,
   "metadata": {},
   "outputs": [
    {
     "name": "stdout",
     "output_type": "stream",
     "text": [
      "     Datum en tijd beeldstandwijziging Datum en tijd bericht verzonden   \n",
      "0                  2023-10-15 18:50:21             2023-10-15 18:50:24  \\\n",
      "1                  2023-10-15 18:50:21             2023-10-15 18:50:24   \n",
      "2                  2023-10-15 18:50:21             2023-10-15 18:50:24   \n",
      "3                  2023-10-15 18:50:21             2023-10-15 18:50:24   \n",
      "4                  2023-10-15 18:50:21             2023-10-15 18:50:24   \n",
      "...                                ...                             ...   \n",
      "4149               2023-10-16 23:48:45             2023-10-16 23:48:46   \n",
      "4150               2023-10-16 23:48:45             2023-10-16 23:48:46   \n",
      "4151               2023-10-16 23:48:45             2023-10-16 23:48:46   \n",
      "4152               2023-10-16 23:48:46             2023-10-16 23:48:48   \n",
      "4153               2023-10-16 23:48:50             2023-10-16 23:48:50   \n",
      "\n",
      "     Datum en tijd bericht ontvangen   \n",
      "0                2023-10-15 18:50:24  \\\n",
      "1                2023-10-15 18:50:24   \n",
      "2                2023-10-15 18:50:24   \n",
      "3                2023-10-15 18:50:24   \n",
      "4                2023-10-15 18:50:24   \n",
      "...                              ...   \n",
      "4149             2023-10-16 23:48:46   \n",
      "4150             2023-10-16 23:48:46   \n",
      "4151             2023-10-16 23:48:46   \n",
      "4152             2023-10-16 23:48:48   \n",
      "4153             2023-10-16 23:48:50   \n",
      "\n",
      "      Seconden tussen beeldstandwijziging en bericht ontvangen   \n",
      "0                                                 3.799         \\\n",
      "1                                                 3.900          \n",
      "2                                                 3.900          \n",
      "3                                                 3.799          \n",
      "4                                                 3.194          \n",
      "...                                                 ...          \n",
      "4149                                              1.551          \n",
      "4150                                              1.551          \n",
      "4151                                              1.551          \n",
      "4152                                              2.452          \n",
      "4153                                              0.559          \n",
      "\n",
      "      Seconden tussen bericht verzonden en bericht ontvangen   \n",
      "0                                                 0.070       \\\n",
      "1                                                 0.053        \n",
      "2                                                 0.114        \n",
      "3                                                 0.102        \n",
      "4                                                 0.076        \n",
      "...                                                 ...        \n",
      "4149                                              0.024        \n",
      "4150                                              0.024        \n",
      "4151                                              0.024        \n",
      "4152                                              0.019        \n",
      "4153                                              0.074        \n",
      "\n",
      "                                    MSI ID Wegnummer DVK  Rijstrook   \n",
      "0     6b7ba0a6-03a4-494f-b89b-006d66dbfba1       A13   R          1  \\\n",
      "1     a5697e06-bc56-4d8e-a805-3c6bdd0b21d5       A13   R          2   \n",
      "2     a75981f4-89c4-4853-9c39-e982eda1d090       A13   R          3   \n",
      "3     9a572b16-bf8c-4f61-9bc9-8a7841d0e229       A13   R          2   \n",
      "4     400ca458-0d29-4fa8-be79-79a34ce00308       A13   R          1   \n",
      "...                                    ...       ...  ..        ...   \n",
      "4149  2576b3cc-d646-4850-afed-3de14dd4d24e       A13   R          3   \n",
      "4150  0dd1c2c4-fdfe-4d7b-a8d3-6ab800629037       A13   R          1   \n",
      "4151  00421135-59cb-4a2d-91ff-8bdb0cd8f783       A13   R          2   \n",
      "4152  8176b4ce-afc2-4b93-988c-18f8c1c58371       A13   R          3   \n",
      "4153  8176b4ce-afc2-4b93-988c-18f8c1c58371       A13   R          3   \n",
      "\n",
      "      Hectometrering  Breedtegraad  Lengtegraad     Beeldstand  Rode rand   \n",
      "0             13.700     51.974655     4.398214          blank      False  \\\n",
      "1             15.035     51.963623     4.405562          blank      False   \n",
      "2             12.700     51.983136     4.394589          blank      False   \n",
      "3             12.300     51.986585     4.393110          blank      False   \n",
      "4             15.550     51.959453     4.408815          blank      False   \n",
      "...              ...           ...          ...            ...        ...   \n",
      "4149          16.200     51.954190     4.412915    lane_closed      False   \n",
      "4150          16.200     51.954190     4.412915  speedlimit 70      False   \n",
      "4151          16.200     51.954190     4.412915  speedlimit 70      False   \n",
      "4152          14.380     51.968901     4.401443    lane_closed      False   \n",
      "4153          14.380     51.968901     4.401443    lane_closed      False   \n",
      "\n",
      "      Knipperend  \n",
      "0          False  \n",
      "1          False  \n",
      "2          False  \n",
      "3          False  \n",
      "4          False  \n",
      "...          ...  \n",
      "4149       False  \n",
      "4150       False  \n",
      "4151       False  \n",
      "4152       False  \n",
      "4153       False  \n",
      "\n",
      "[4154 rows x 15 columns]\n"
     ]
    }
   ],
   "source": [
    "print(df)"
   ]
  },
  {
   "cell_type": "code",
   "execution_count": null,
   "metadata": {},
   "outputs": [],
   "source": []
  }
 ],
 "metadata": {
  "kernelspec": {
   "display_name": "afstudeer_venv",
   "language": "python",
   "name": "python3"
  },
  "language_info": {
   "codemirror_mode": {
    "name": "ipython",
    "version": 3
   },
   "file_extension": ".py",
   "mimetype": "text/x-python",
   "name": "python",
   "nbconvert_exporter": "python",
   "pygments_lexer": "ipython3",
   "version": "3.11.0"
  }
 },
 "nbformat": 4,
 "nbformat_minor": 2
}
