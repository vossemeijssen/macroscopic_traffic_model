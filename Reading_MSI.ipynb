{
 "cells": [
  {
   "cell_type": "markdown",
   "metadata": {},
   "source": [
    "# Understanding the MSI file\n",
    "The Matrix Signal Information (MSI) file describes the information that is shown on the matrix signs above highways. This information can be imported in a csv file, where each line describes a change in MSI. We want to process this information, until we can deduce:\n",
    "- For any time and any location on the highway (hectometer marker, inside the range), the available lanes and maximum speeds.\n",
    "\n",
    "We will find this by first looking in the excel file \"backwards over the highway\", looking for the closest matrix sign. Then, we will search backwards in time for the latest update."
   ]
  },
  {
   "cell_type": "code",
   "execution_count": 39,
   "metadata": {},
   "outputs": [],
   "source": [
    "import numpy as np\n",
    "import pandas as pd\n",
    "import matplotlib.pyplot as plt\n",
    "import os\n",
    "import datetime"
   ]
  },
  {
   "cell_type": "code",
   "execution_count": 40,
   "metadata": {},
   "outputs": [],
   "source": [
    "# Define paths\n",
    "datafolder = os.path.join(os.path.dirname(os.getcwd()), \"data\", \"short_highway\")\n",
    "datafolder_msi = os.path.join(datafolder, \"msi-export\")\n",
    "file1_path = os.path.join(datafolder_msi, \"msi-export.csv\")"
   ]
  },
  {
   "cell_type": "code",
   "execution_count": 41,
   "metadata": {},
   "outputs": [],
   "source": [
    "# import file into pd.df\n",
    "df = pd.read_csv(file1_path, low_memory=False)\n",
    "df[\"time\"] = pd.to_datetime(df[\"Datum en tijd beeldstandwijziging\"])"
   ]
  },
  {
   "cell_type": "code",
   "execution_count": 64,
   "metadata": {},
   "outputs": [],
   "source": [
    "def find_road_situation(hectometer, measure_time, MSI_df, max_speed=100, num_lanes=6):\n",
    "    lanedata = np.zeros(num_lanes)\n",
    "    for lane_nr in range(1, num_lanes+1):\n",
    "        # Find closest location\n",
    "        lane_df = MSI_df[MSI_df[\"Rijstrook\"] == lane_nr]\n",
    "        if lane_df.empty:\n",
    "            lanedata[lane_nr - 1] = 0\n",
    "            continue\n",
    "        hm_points = lane_df.Hectometrering.unique()\n",
    "        closest_measuring_location = max(hm_points[hm_points <= hectometer])\n",
    "        # Only look at the closest location\n",
    "        lane_df = lane_df[lane_df.Hectometrering == closest_measuring_location]\n",
    "        # Find the latest update\n",
    "        latest_update_time = max(lane_df[lane_df.time <= measure_time].time)\n",
    "        beeldstand = lane_df[lane_df.time == latest_update_time][\"Beeldstand\"].values[0]\n",
    "        # Update lanedata according to beeldstand\n",
    "        if beeldstand in [\"blank\", \"lane_closed_ahead merge_left\", \"lane_closed_ahead merge_right\", \"restriction_end\"]:\n",
    "            lanedata[lane_nr - 1] = max_speed\n",
    "        elif beeldstand in [\"lane_closed\"]:\n",
    "            lanedata[lane_nr - 1] = 0\n",
    "        elif beeldstand.startswith(\"speedlimit\"):\n",
    "            lanedata[lane_nr - 1] = int(beeldstand.split(\" \")[-1])\n",
    "        else:\n",
    "            raise KeyError(f\"Beeldstand {beeldstand} is not known.\")\n",
    "    return(lanedata)\n",
    "\n"
   ]
  },
  {
   "cell_type": "markdown",
   "metadata": {},
   "source": [
    "# Applying the function\n",
    "We are now able to systematically find the road situation for all locations on a highway, although the code is not very efficient. Here is an example of how to use this function. We will also add this function to godunovfunctions.py."
   ]
  },
  {
   "cell_type": "code",
   "execution_count": 65,
   "metadata": {},
   "outputs": [
    {
     "data": {
      "text/plain": [
       "array([100., 100., 100.,   0., 100.,   0.])"
      ]
     },
     "execution_count": 65,
     "metadata": {},
     "output_type": "execute_result"
    }
   ],
   "source": [
    "\n",
    "measure_time = datetime.datetime.strptime(\"2023-10-16 15:00:00\", \"%Y-%m-%d %H:%M:%S\")\n",
    "find_road_situation(14.0, measure_time, df[df['DVK'] == \"L\"])  "
   ]
  },
  {
   "cell_type": "code",
   "execution_count": null,
   "metadata": {},
   "outputs": [],
   "source": []
  }
 ],
 "metadata": {
  "kernelspec": {
   "display_name": "afstudeer_venv",
   "language": "python",
   "name": "python3"
  },
  "language_info": {
   "codemirror_mode": {
    "name": "ipython",
    "version": 3
   },
   "file_extension": ".py",
   "mimetype": "text/x-python",
   "name": "python",
   "nbconvert_exporter": "python",
   "pygments_lexer": "ipython3",
   "version": "3.11.0"
  }
 },
 "nbformat": 4,
 "nbformat_minor": 2
}
