{
 "cells": [
  {
   "cell_type": "markdown",
   "metadata": {},
   "source": [
    "# Understanding the MSI file\n",
    "The Matrix Signal Information (MSI) file describes the information that is shown on the matrix signs above highways. This information can be imported in a csv file, where each line describes a change in MSI. We want to process this information, until we can deduce:\n",
    "- For any time and any location on the highway (hectometer marker, inside the range), the available lanes and maximum speeds.\n",
    "\n",
    "We will find this by first looking in the excel file \"backwards over the highway\", looking for the closest matrix sign. Then, we will search backwards in time for the latest update."
   ]
  },
  {
   "cell_type": "code",
   "execution_count": 10,
   "metadata": {},
   "outputs": [],
   "source": [
    "import numpy as np\n",
    "import pandas as pd\n",
    "import matplotlib.pyplot as plt\n",
    "import os\n",
    "import datetime"
   ]
  },
  {
   "cell_type": "code",
   "execution_count": 11,
   "metadata": {},
   "outputs": [],
   "source": [
    "# Define paths\n",
    "datafolder = os.path.join(os.path.dirname(os.getcwd()), \"data\", \"short_highway\")\n",
    "datafolder_msi = os.path.join(datafolder, \"msi-export\")\n",
    "file1_path = os.path.join(datafolder_msi, \"msi-export.csv\")"
   ]
  },
  {
   "cell_type": "code",
   "execution_count": 12,
   "metadata": {},
   "outputs": [],
   "source": [
    "# import file into pd.df\n",
    "df = pd.read_csv(file1_path, low_memory=False)\n",
    "df[\"time\"] = pd.to_datetime(df[\"Datum en tijd beeldstandwijziging\"])"
   ]
  },
  {
   "cell_type": "code",
   "execution_count": 21,
   "metadata": {},
   "outputs": [],
   "source": [
    "def find_road_situation(hectometer, measure_time, MSI_df, direction=\"R\", max_speed=100, num_lanes=6):\n",
    "    lanedata = np.zeros(num_lanes)\n",
    "    # Find closest location\n",
    "    loc_df = MSI_df[MSI_df[\"DVK\"] == direction]\n",
    "    hm_points = loc_df.Hectometrering.unique()\n",
    "    if direction == \"R\": \n",
    "        closest_measuring_location = max(hm_points[hm_points <= hectometer])\n",
    "    else:\n",
    "        closest_measuring_location = min(hm_points[hm_points >= hectometer])\n",
    "    # Only look at the closest location\n",
    "    loc_df = loc_df[loc_df[\"Hectometrering\"] == closest_measuring_location]\n",
    "    for lane_nr in range(1, num_lanes+1):\n",
    "        # If there is no lane_nr in the closest location, then there is no lane. Set speed 0.\n",
    "        lane_df = loc_df[loc_df[\"Rijstrook\"] == lane_nr]\n",
    "        if lane_df.empty:\n",
    "            lanedata[lane_nr - 1] = 0\n",
    "            continue\n",
    "        # Find the latest update\n",
    "        latest_update_time = max(lane_df[lane_df.time <= measure_time].time)\n",
    "        beeldstand = lane_df[lane_df.time == latest_update_time][\"Beeldstand\"].values[0]\n",
    "        # Update lanedata according to beeldstand\n",
    "        if beeldstand in [\"blank\", \"lane_closed_ahead merge_left\", \"lane_closed_ahead merge_right\", \"restriction_end\"]:\n",
    "            lanedata[lane_nr - 1] = max_speed\n",
    "        elif beeldstand in [\"lane_closed\"]:\n",
    "            lanedata[lane_nr - 1] = 0\n",
    "        elif beeldstand.startswith(\"speedlimit\"):\n",
    "            lanedata[lane_nr - 1] = int(beeldstand.split(\" \")[-1])\n",
    "        else:\n",
    "            raise KeyError(f\"Beeldstand {beeldstand} is not known.\")\n",
    "    return(lanedata)\n",
    "\n"
   ]
  },
  {
   "cell_type": "markdown",
   "metadata": {},
   "source": [
    "# Applying the function\n",
    "We are now able to systematically find the road situation for all locations on a highway, although the code is not very efficient. Here is an example of how to use this function. We will also add this function to godunovfunctions.py."
   ]
  },
  {
   "cell_type": "code",
   "execution_count": 24,
   "metadata": {},
   "outputs": [
    {
     "name": "stdout",
     "output_type": "stream",
     "text": [
      "12.0 [100. 100. 100. 100. 100.   0.]\n",
      "12.172413793103448 [100. 100. 100.   0.   0.   0.]\n",
      "12.344827586206897 [100. 100. 100.   0.   0.   0.]\n",
      "12.517241379310345 [100. 100. 100.   0.   0.   0.]\n",
      "12.689655172413794 [100. 100. 100.   0.   0.   0.]\n",
      "12.862068965517242 [100. 100. 100.   0.   0.   0.]\n",
      "13.03448275862069 [100. 100. 100.   0.   0.   0.]\n",
      "13.206896551724139 [100. 100. 100.   0.   0.   0.]\n",
      "13.379310344827587 [100. 100. 100.   0.   0.   0.]\n",
      "13.551724137931036 [100. 100. 100.   0.   0.   0.]\n",
      "13.724137931034482 [100. 100. 100.   0.   0.   0.]\n",
      "13.89655172413793 [100. 100. 100.   0.   0.   0.]\n",
      "14.068965517241379 [100. 100. 100.   0.   0.   0.]\n",
      "14.241379310344827 [100. 100. 100.   0.   0.   0.]\n",
      "14.413793103448276 [100. 100. 100.   0.   0.   0.]\n",
      "14.586206896551724 [100. 100. 100.   0.   0.   0.]\n",
      "14.758620689655173 [100. 100. 100.   0.   0.   0.]\n",
      "14.931034482758621 [100. 100. 100.   0.   0.   0.]\n",
      "15.10344827586207 [100. 100. 100.   0.   0.   0.]\n",
      "15.275862068965518 [100. 100. 100.   0.   0.   0.]\n",
      "15.448275862068966 [100. 100. 100.   0.   0.   0.]\n",
      "15.620689655172415 [100. 100. 100.   0.   0.   0.]\n",
      "15.793103448275861 [100. 100. 100.   0.   0.   0.]\n",
      "15.96551724137931 [100. 100. 100.   0.   0.   0.]\n",
      "16.137931034482758 [100. 100. 100.   0.   0.   0.]\n"
     ]
    },
    {
     "ename": "ValueError",
     "evalue": "min() arg is an empty sequence",
     "output_type": "error",
     "traceback": [
      "\u001b[1;31m---------------------------------------------------------------------------\u001b[0m",
      "\u001b[1;31mValueError\u001b[0m                                Traceback (most recent call last)",
      "\u001b[1;32mc:\\Users\\vosse.meijssen\\Documents\\Projects\\afstuderen\\gunodov_method\\Reading_MSI.ipynb Cell 7\u001b[0m line \u001b[0;36m3\n\u001b[0;32m      <a href='vscode-notebook-cell:/c%3A/Users/vosse.meijssen/Documents/Projects/afstuderen/gunodov_method/Reading_MSI.ipynb#W6sZmlsZQ%3D%3D?line=0'>1</a>\u001b[0m measure_time \u001b[39m=\u001b[39m datetime\u001b[39m.\u001b[39mdatetime\u001b[39m.\u001b[39mstrptime(\u001b[39m\"\u001b[39m\u001b[39m2023-10-16 15:00:00\u001b[39m\u001b[39m\"\u001b[39m, \u001b[39m\"\u001b[39m\u001b[39m%\u001b[39m\u001b[39mY-\u001b[39m\u001b[39m%\u001b[39m\u001b[39mm-\u001b[39m\u001b[39m%d\u001b[39;00m\u001b[39m \u001b[39m\u001b[39m%\u001b[39m\u001b[39mH:\u001b[39m\u001b[39m%\u001b[39m\u001b[39mM:\u001b[39m\u001b[39m%\u001b[39m\u001b[39mS\u001b[39m\u001b[39m\"\u001b[39m)\n\u001b[0;32m      <a href='vscode-notebook-cell:/c%3A/Users/vosse.meijssen/Documents/Projects/afstuderen/gunodov_method/Reading_MSI.ipynb#W6sZmlsZQ%3D%3D?line=1'>2</a>\u001b[0m \u001b[39mfor\u001b[39;00m i \u001b[39min\u001b[39;00m np\u001b[39m.\u001b[39mlinspace(\u001b[39m12\u001b[39m, \u001b[39m17\u001b[39m, \u001b[39m30\u001b[39m):\n\u001b[1;32m----> <a href='vscode-notebook-cell:/c%3A/Users/vosse.meijssen/Documents/Projects/afstuderen/gunodov_method/Reading_MSI.ipynb#W6sZmlsZQ%3D%3D?line=2'>3</a>\u001b[0m     \u001b[39mprint\u001b[39m(i, find_road_situation(i, measure_time, df, \u001b[39m\"\u001b[39;49m\u001b[39mL\u001b[39;49m\u001b[39m\"\u001b[39;49m))\n",
      "\u001b[1;32mc:\\Users\\vosse.meijssen\\Documents\\Projects\\afstuderen\\gunodov_method\\Reading_MSI.ipynb Cell 7\u001b[0m line \u001b[0;36m9\n\u001b[0;32m      <a href='vscode-notebook-cell:/c%3A/Users/vosse.meijssen/Documents/Projects/afstuderen/gunodov_method/Reading_MSI.ipynb#W6sZmlsZQ%3D%3D?line=6'>7</a>\u001b[0m     closest_measuring_location \u001b[39m=\u001b[39m \u001b[39mmax\u001b[39m(hm_points[hm_points \u001b[39m<\u001b[39m\u001b[39m=\u001b[39m hectometer])\n\u001b[0;32m      <a href='vscode-notebook-cell:/c%3A/Users/vosse.meijssen/Documents/Projects/afstuderen/gunodov_method/Reading_MSI.ipynb#W6sZmlsZQ%3D%3D?line=7'>8</a>\u001b[0m \u001b[39melse\u001b[39;00m:\n\u001b[1;32m----> <a href='vscode-notebook-cell:/c%3A/Users/vosse.meijssen/Documents/Projects/afstuderen/gunodov_method/Reading_MSI.ipynb#W6sZmlsZQ%3D%3D?line=8'>9</a>\u001b[0m     closest_measuring_location \u001b[39m=\u001b[39m \u001b[39mmin\u001b[39;49m(hm_points[hm_points \u001b[39m>\u001b[39;49m\u001b[39m=\u001b[39;49m hectometer])\n\u001b[0;32m     <a href='vscode-notebook-cell:/c%3A/Users/vosse.meijssen/Documents/Projects/afstuderen/gunodov_method/Reading_MSI.ipynb#W6sZmlsZQ%3D%3D?line=9'>10</a>\u001b[0m \u001b[39m# Only look at the closest location\u001b[39;00m\n\u001b[0;32m     <a href='vscode-notebook-cell:/c%3A/Users/vosse.meijssen/Documents/Projects/afstuderen/gunodov_method/Reading_MSI.ipynb#W6sZmlsZQ%3D%3D?line=10'>11</a>\u001b[0m loc_df \u001b[39m=\u001b[39m loc_df[loc_df[\u001b[39m\"\u001b[39m\u001b[39mHectometrering\u001b[39m\u001b[39m\"\u001b[39m] \u001b[39m==\u001b[39m closest_measuring_location]\n",
      "\u001b[1;31mValueError\u001b[0m: min() arg is an empty sequence"
     ]
    }
   ],
   "source": [
    "\n",
    "measure_time = datetime.datetime.strptime(\"2023-10-16 15:00:00\", \"%Y-%m-%d %H:%M:%S\")\n",
    "for i in np.linspace(12, 17, 30):\n",
    "    print(i, find_road_situation(i, measure_time, df, \"L\"))"
   ]
  },
  {
   "cell_type": "code",
   "execution_count": null,
   "metadata": {},
   "outputs": [],
   "source": []
  }
 ],
 "metadata": {
  "kernelspec": {
   "display_name": "afstudeer_venv",
   "language": "python",
   "name": "python3"
  },
  "language_info": {
   "codemirror_mode": {
    "name": "ipython",
    "version": 3
   },
   "file_extension": ".py",
   "mimetype": "text/x-python",
   "name": "python",
   "nbconvert_exporter": "python",
   "pygments_lexer": "ipython3",
   "version": "3.11.0"
  }
 },
 "nbformat": 4,
 "nbformat_minor": 2
}
