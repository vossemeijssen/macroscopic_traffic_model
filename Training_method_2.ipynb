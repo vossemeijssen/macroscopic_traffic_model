{
 "cells": [
  {
   "cell_type": "markdown",
   "metadata": {},
   "source": [
    "# Training method 2\n",
    "In this notebook, we will try to complete 1 full round of research for a short piece of A13 highway from Rotterdam to Delft, with data from the month october.\n",
    "- Loading NDW loopdata, and filtering the correct data from that.\n",
    "- Adding the correct MSI information to all rows.\n",
    "- Using pytorch to trian a neural network (NN) that can predict FR parameters from MSI data.\n",
    "- Applying that NN to \"normal\" MSI data, and \"altered\" MSI data.\n",
    "- Running a traffic simulation, and comparing the results."
   ]
  },
  {
   "cell_type": "code",
   "execution_count": 1,
   "metadata": {},
   "outputs": [],
   "source": [
    "import numpy as np\n",
    "import pandas as pd\n",
    "import matplotlib.pyplot as plt\n",
    "import os\n",
    "import datetime\n",
    "import godunovfunctions\n",
    "from tqdm.notebook import tqdm"
   ]
  },
  {
   "cell_type": "code",
   "execution_count": 2,
   "metadata": {},
   "outputs": [],
   "source": [
    "# Define paths\n",
    "datafolder = os.path.join(os.path.dirname(os.getcwd()), \"data\", \"short_highway\")\n",
    "datafolder_msi = os.path.join(datafolder, \"msi-export\")\n",
    "msi_path = os.path.join(datafolder_msi, \"msi-export.csv\")\n",
    "\n",
    "datafolder_intensityspeed = os.path.join(datafolder, \"intensiteit-snelheid-export\")\n",
    "intensityspeed_path = os.path.join(datafolder_intensityspeed, \"intensiteit-snelheid-export.csv\")"
   ]
  },
  {
   "cell_type": "code",
   "execution_count": 3,
   "metadata": {},
   "outputs": [],
   "source": [
    "# Load data\n",
    "IS_df = pd.read_csv(intensityspeed_path, low_memory=False)\n",
    "MSI_df = pd.read_csv(msi_path, low_memory=False)"
   ]
  },
  {
   "cell_type": "code",
   "execution_count": 4,
   "metadata": {},
   "outputs": [],
   "source": [
    "# Add columns\n",
    "IS_df[\"gem_dichtheid\"] = IS_df[\"gem_intensiteit\"] / IS_df[\"gem_snelheid\"]\n",
    "MSI_df[\"time\"] = pd.to_datetime(MSI_df[\"Datum en tijd beeldstandwijziging\"])"
   ]
  },
  {
   "cell_type": "code",
   "execution_count": 5,
   "metadata": {},
   "outputs": [],
   "source": [
    "# Filter out the relevant data in the intensity-speed df\n",
    "IS_df = IS_df[IS_df.voertuigcategorie == \"anyVehicle\"]\n",
    "IS_df = IS_df[IS_df.gem_snelheid != -1]\n",
    "IS_df = IS_df[IS_df.technical_exclusion != \"v\"]    \n",
    "IS_df[\"start\"] = pd.to_datetime(IS_df.start_meetperiode)\n",
    "mask = (IS_df.start.dt.time >= pd.to_datetime(\"7:00\").time()) & (IS_df.start.dt.time < pd.to_datetime(\"19:00\").time())\n",
    "mask2 = (IS_df.start.dt.weekday != 5) & (IS_df.start.dt.weekday != 6)\n",
    "IS_df = IS_df[mask & mask2]\n"
   ]
  },
  {
   "cell_type": "code",
   "execution_count": 6,
   "metadata": {},
   "outputs": [],
   "source": [
    "# Aggregate the lanes together\n",
    "filtered = IS_df[[\"start\", \"id_meetlocatie\"]].drop_duplicates()\n",
    "grouped = IS_df.groupby([\"start\", \"id_meetlocatie\"])\n",
    "tot = grouped[\"gem_intensiteit\"].transform(\"sum\")\n",
    "gem_snelheid_weighted = (IS_df[\"gem_snelheid\"] / tot * IS_df[\"gem_intensiteit\"]).groupby([IS_df[\"start\"], IS_df[\"id_meetlocatie\"]]).transform(\"sum\")\n",
    "filtered[\"gem_intensiteit\"] = tot\n",
    "filtered[\"gem_snelheid\"] = gem_snelheid_weighted\n",
    "filtered[\"gem_dichtheid\"] = filtered[\"gem_intensiteit\"] / filtered[\"gem_snelheid\"]\n",
    "IS_df = filtered"
   ]
  },
  {
   "cell_type": "markdown",
   "metadata": {},
   "source": [
    "# Adding MSI data to the IS_df\n",
    "We will need the hectometer location of all measuring points. This hectometer location (and direction R/L) can be found from the measuring location id. For example:\n",
    "RWS01_MONIBAS_0131hrl0117ra\n",
    "- 013 means highway A13\n",
    "- hrl means the L direction (otherwise hrr)\n",
    "- 0117 means hectometer 11.7\n",
    "- ra means the main road (otherwise rb, or maybe even rc)\n",
    "\n",
    "The `find_road_situation` function is too slow, so I will write another function that adds MSI information to the whole dataframe in 1 sweep.\n",
    "\n",
    "We will manually add the hectometer/direction to all locations, and then add that information to all rows. Then, we will make some plots to confirm the correct values.\n"
   ]
  },
  {
   "cell_type": "code",
   "execution_count": 7,
   "metadata": {},
   "outputs": [],
   "source": [
    "# Add direction and hectometer info to all rows of IS_df\n",
    "direction_dict = {}\n",
    "hectometer_dict = {}\n",
    "for i in IS_df.id_meetlocatie.unique():\n",
    "    if i[6:13] == \"MONIBAS\":\n",
    "        if i[14:18] == \"0131\":\n",
    "            direction_dict[i] = i[20].upper()\n",
    "            hectometer_dict[i] = int(i[21:25]) / 10\n",
    "    else:\n",
    "        raise NameError(f\"Please clarify id {i}\")"
   ]
  },
  {
   "cell_type": "code",
   "execution_count": 8,
   "metadata": {},
   "outputs": [],
   "source": [
    "def add_MSI_information(IS_loc_df, MSI_df, hectometer, direction, max_speed=100.0, num_lanes=6):\n",
    "    # In this function, IS_loc_df is the subset of IS_df with only the data of 1 location. \n",
    "    # We will create num_lanes=6 empty columns of return_df, with the same number of rows as loc_df\n",
    "    return_df = pd.DataFrame()\n",
    "\n",
    "    # Find closest location, call it \"closest_measuring_location\"\n",
    "    dir_df = MSI_df[MSI_df[\"DVK\"] == direction]\n",
    "    hm_points = dir_df.Hectometrering.unique()\n",
    "    try:\n",
    "        if direction == \"R\": \n",
    "            closest_measuring_location = max(hm_points[hm_points <= hectometer])\n",
    "        else:\n",
    "            closest_measuring_location = min(hm_points[hm_points >= hectometer])\n",
    "    except ValueError:\n",
    "        print(f'ERROR: Matrix data unknown for measuring point {IS_loc_df[\"id_meetlocatie\"].unique()[0]}\\nat hectometer {hectometer}, direction {direction}.\\nTry adding more MSI data.')\n",
    "        for lane_nr in range(1, num_lanes+1):\n",
    "            return_df[lane_nr] = [0] * len(IS_loc_df)\n",
    "        return return_df\n",
    "        # raise ValueError(f\"Matrix data unknown for measuring point at hectometer {hectometer}.\\nTry adding more MSI data.\")\n",
    "    # Only look at the closest location\n",
    "    loc_df = dir_df[dir_df[\"Hectometrering\"] == closest_measuring_location]\n",
    "    # print(loc_df)\n",
    "    # Define MSI configs:\n",
    "    MSIconfigs = {\n",
    "        \"blank\": max_speed,\n",
    "        \"lane_closed_ahead merge_left\": max_speed,\n",
    "        \"lane_closed_ahead merge_right\": max_speed,\n",
    "        \"restriction_end\": max_speed,\n",
    "        \"lane_closed\": 0,\n",
    "        \"speedlimit 100\": 100,\n",
    "        \"speedlimit 80\": 80,\n",
    "        \"speedlimit 70\": 70,\n",
    "        \"speedlimit 60\": 60, \n",
    "        \"speedlimit 50\": 50,\n",
    "        \"speedlimit 30\": 30,\n",
    "    }\n",
    "\n",
    "    for lane_nr in range(1, num_lanes+1):\n",
    "        # If there is no lane_nr in the closest location, then there is no lane. \n",
    "        # Set max speed equal to 0 for the whole time on this lane\n",
    "        lane_df = loc_df[loc_df[\"Rijstrook\"] == lane_nr]\n",
    "        if lane_df.empty:\n",
    "            return_df[lane_nr] = [0] * len(IS_loc_df)\n",
    "            continue\n",
    "                \n",
    "        # Now, for every row in IS_loc_df, find the latest update time\n",
    "        change_times = lane_df.time\n",
    "        last_update_time = change_times.iloc[0]\n",
    "        last_update = MSIconfigs[lane_df[change_times == last_update_time][\"Beeldstand\"].values[0]]\n",
    "        next_update_time = change_times.iloc[1]\n",
    "        column = []\n",
    "        for measure_time in IS_loc_df[\"start\"]:\n",
    "            if measure_time < next_update_time:\n",
    "                column.append(last_update)\n",
    "            else:\n",
    "                last_update_time = max(lane_df[change_times <= measure_time].time)\n",
    "                last_update = MSIconfigs[lane_df[change_times == last_update_time][\"Beeldstand\"].values[0]]\n",
    "                next_times = lane_df[change_times > measure_time].time\n",
    "                if next_times.empty:\n",
    "                    next_update_time = max(IS_loc_df.start)\n",
    "                else:\n",
    "                    next_update_time = min(next_times)\n",
    "                column.append(last_update)\n",
    "            # beeldstand = lane_df[change_times == latest_update_time][\"Beeldstand\"].values[0]\n",
    "            # column.append(MSIconfigs[beeldstand])\n",
    "        return_df[lane_nr] = column\n",
    "    return return_df"
   ]
  },
  {
   "cell_type": "code",
   "execution_count": 9,
   "metadata": {},
   "outputs": [],
   "source": [
    "# Get all MSI information on all IS_df locations\n",
    "IS_df = IS_df[IS_df[\"id_meetlocatie\"] != \"RWS01_MONIBAS_0131hrr0119ra\"]\n",
    "results = pd.DataFrame()\n",
    "for measuring_location in IS_df[\"id_meetlocatie\"].unique():\n",
    "    hectometer = hectometer_dict[measuring_location]\n",
    "    direction = direction_dict[measuring_location]\n",
    "    ret = add_MSI_information(IS_df[IS_df[\"id_meetlocatie\"] == measuring_location], MSI_df, hectometer, direction)\n",
    "    results = pd.concat([results, ret])\n"
   ]
  },
  {
   "cell_type": "code",
   "execution_count": 10,
   "metadata": {},
   "outputs": [],
   "source": [
    "# Combine all MSI information on all IS_df locations into df\n",
    "df = pd.concat([IS_df.reset_index(), results.reset_index()], axis=1)"
   ]
  },
  {
   "cell_type": "markdown",
   "metadata": {},
   "source": [
    "Now we will check if this dataframe is correct by taking a random sample of 100, and checking the MSI information on these locations."
   ]
  },
  {
   "cell_type": "code",
   "execution_count": 11,
   "metadata": {},
   "outputs": [],
   "source": [
    "random_rows = df.sample(n=100, random_state=0)\n",
    "for index, row in random_rows.iterrows():\n",
    "    hectometer = hectometer_dict[row[\"id_meetlocatie\"]]\n",
    "    direction = direction_dict[row[\"id_meetlocatie\"]]\n",
    "    road_situation = godunovfunctions.find_road_situation(\n",
    "        hectometer=hectometer, \n",
    "        measure_time=row[\"start\"], \n",
    "        MSI_df=MSI_df,\n",
    "        direction=direction,\n",
    "        )\n",
    "    for i, val in enumerate(row[[1, 2, 3, 4, 5, 6]].tolist()):\n",
    "        if val != road_situation[i]:\n",
    "            raise ValueError(f\"Row {index} is not matching!!!! This means the code is not right\")\n"
   ]
  },
  {
   "cell_type": "markdown",
   "metadata": {},
   "source": [
    "# Neural network\n",
    "This part has a few steps:\n",
    "1. Creating a trainable neural network in pytorch with the correct layout\n",
    "2. Training this neural network on the data we have just created (in df)\n",
    "3. Applying this neural network to test data, and verifying the results"
   ]
  },
  {
   "cell_type": "code",
   "execution_count": 15,
   "metadata": {},
   "outputs": [],
   "source": [
    "import torch\n",
    "from torch import nn\n",
    "import torch.nn.functional as F\n",
    "import torch.optim as optim\n",
    "from sklearn.model_selection import train_test_split"
   ]
  },
  {
   "cell_type": "code",
   "execution_count": 16,
   "metadata": {},
   "outputs": [],
   "source": [
    "class NeuralNetwork(nn.Module):\n",
    "    def __init__(self, *args, **kwargs) -> None:\n",
    "        super().__init__()\n",
    "        self.linear_stack = nn.Sequential(\n",
    "            nn.Linear(6, 4),\n",
    "            nn.Softplus(),\n",
    "            nn.Linear(4, 3),\n",
    "            nn.Softplus()\n",
    "        )\n",
    "    \n",
    "    def forward(self, x):\n",
    "        fr_params = self.linear_stack(x[:, :6])\n",
    "        \n",
    "        u0 = fr_params[:, 0]\n",
    "        qj = fr_params[:, 1]\n",
    "        qc = fr_params[:, 2]\n",
    "\n",
    "        q = x[:, -1]\n",
    "\n",
    "        f_pred = u0 / (qj+0.001) * (qc * qj - qc * qc + (qc + q - qj) * F.relu(qc - q) - qc * F.relu(q - qc))\n",
    "        return f_pred\n",
    "    \n",
    "    def _initialize_parameters(self):\n",
    "        for fc1 in self.linear_stack:\n",
    "            torch.nn.init.zeros_(self.fc1.bias)\n",
    "            torch.nn.init.xavier_uniform_(self.fc1.weight)\n",
    "    \n",
    "    def get_params(self, x):\n",
    "        fr_params = self.linear_stack(x[:, :-1])\n",
    "        return fr_params\n"
   ]
  },
  {
   "cell_type": "code",
   "execution_count": 20,
   "metadata": {},
   "outputs": [],
   "source": [
    "# Initialize data\n",
    "train_df, test_df = train_test_split(df, test_size=0.2, random_state=42)\n",
    "X_train_df = train_df[[1, 2, 3, 4, 5, 6, \"gem_dichtheid\"]]\n",
    "Y_train_df = train_df[\"gem_intensiteit\"]\n",
    "X_test_df = test_df[[1, 2, 3, 4, 5, 6, \"gem_dichtheid\"]]\n",
    "Y_test_df = test_df[\"gem_intensiteit\"]\n"
   ]
  },
  {
   "cell_type": "code",
   "execution_count": 21,
   "metadata": {},
   "outputs": [],
   "source": [
    "# Normalize data and create tensors\n",
    "X_train_tensor = torch.tensor(X_train_df.values, dtype=torch.float32) / 100.0\n",
    "Y_train_tensor = torch.tensor(Y_train_df.values, dtype=torch.float32).view(-1) / 10000.0\n",
    "\n",
    "X_test_tensor = torch.tensor(X_test_df.values, dtype=torch.float32) / 100.0\n",
    "Y_test_tensor = torch.tensor(Y_test_df.values, dtype=torch.float32).view(-1) / 10000.0"
   ]
  },
  {
   "cell_type": "code",
   "execution_count": 22,
   "metadata": {},
   "outputs": [],
   "source": [
    "# Set up model and optimizer\n",
    "model = NeuralNetwork()\n",
    "criterion = nn.MSELoss()\n",
    "optimizer = optim.Adam(model.parameters(), lr=0.001)"
   ]
  },
  {
   "cell_type": "code",
   "execution_count": 23,
   "metadata": {},
   "outputs": [
    {
     "name": "stdout",
     "output_type": "stream",
     "text": [
      "Epoch [500/5000], Loss: 0.0019\n",
      "Epoch [1000/5000], Loss: 0.0015\n",
      "Epoch [1500/5000], Loss: 0.0013\n",
      "Epoch [2000/5000], Loss: 0.0012\n",
      "Epoch [2500/5000], Loss: 0.0011\n",
      "Epoch [3000/5000], Loss: 0.0010\n",
      "Epoch [3500/5000], Loss: 0.0009\n",
      "Epoch [4000/5000], Loss: 0.0009\n",
      "Epoch [4500/5000], Loss: 0.0009\n",
      "Epoch [5000/5000], Loss: 0.0009\n"
     ]
    }
   ],
   "source": [
    "epochs = 5000\n",
    "# for g in optimizer.param_groups:\n",
    "#     g['lr'] = 0.001\n",
    "\n",
    "for epoch in range(epochs):\n",
    "    predictions = model(X_train_tensor)\n",
    "    loss = criterion(predictions, Y_train_tensor)\n",
    "    optimizer.zero_grad()\n",
    "    loss.backward()\n",
    "    optimizer.step()\n",
    "    if (epoch + 1) % 500 == 0:\n",
    "        print(f'Epoch [{epoch+1}/{epochs}], Loss: {loss.item():.4f}')\n",
    "\n",
    "    # print(f'Epoch [{epoch+1}/{epochs}], Loss: {loss.item():.4f}')\n",
    "    # for name, param in model.named_parameters():\n",
    "    #     print(f'Parameter: {name}, Gradient: {param.grad}')"
   ]
  },
  {
   "cell_type": "code",
   "execution_count": 32,
   "metadata": {},
   "outputs": [],
   "source": [
    "test_MSI_info = [\n",
    "    100, \n",
    "    100, \n",
    "    100, \n",
    "    0, \n",
    "    0, \n",
    "    0\n",
    "]"
   ]
  },
  {
   "cell_type": "code",
   "execution_count": 33,
   "metadata": {},
   "outputs": [
    {
     "data": {
      "image/png": "[encoded data removed]",
      "text/plain": [
       "<Figure size 640x480 with 2 Axes>"
      ]
     },
     "metadata": {},
     "output_type": "display_data"
    }
   ],
   "source": [
    "# Apply model to test_MSI_info\n",
    "fr_params = model.get_params(torch.tensor([test_MSI_info + [0]], dtype=torch.float)/100)\n",
    "qj = float(fr_params[0, 1] * 100)\n",
    "\n",
    "subset_IS_df = test_df[(test_df[[1, 2, 3, 4, 5, 6]] == test_MSI_info).all(axis=1)]\n",
    "test_density = subset_IS_df[\"gem_dichtheid\"]\n",
    "test_flux = subset_IS_df[\"gem_intensiteit\"]\n",
    "test_speed = subset_IS_df[\"gem_snelheid\"]\n",
    "\n",
    "model_density = np.linspace(0.1, qj, 100)\n",
    "model_flux = []\n",
    "def get_model_f(model, max_speeds, density):\n",
    "    X = max_speeds + [density]\n",
    "    X = torch.tensor([X], dtype=torch.float)\n",
    "    X = X/100\n",
    "    y = model(X)\n",
    "    y = float(y)\n",
    "    return y*10000\n",
    "\n",
    "for i in model_density:\n",
    "    model_flux.append(get_model_f(model, test_MSI_info, i))\n",
    "model_flux = np.array(model_flux)\n",
    "model_speed = model_flux / model_density\n",
    "\n",
    "fig, (ax1, ax2) = plt.subplots(1, 2)\n",
    "\n",
    "ax1.scatter(test_density, test_flux, alpha=0.5)\n",
    "ax1.plot(model_density, model_flux, \"r\")\n",
    "ax1.set_xlabel('Density (car/km)')\n",
    "ax1.set_ylabel(\"Flux (car/h)\")\n",
    "ax2.scatter(test_density, test_speed, alpha=0.5)\n",
    "ax2.plot(model_density, model_speed, \"r\")\n",
    "ax2.set_xlabel(\"Density (car/km)\")\n",
    "ax2.set_ylabel(\"Avg. speed (km/h)\")\n",
    "plt.show()"
   ]
  },
  {
   "cell_type": "code",
   "execution_count": null,
   "metadata": {},
   "outputs": [],
   "source": []
  }
 ],
 "metadata": {
  "kernelspec": {
   "display_name": "afstudeer_venv",
   "language": "python",
   "name": "python3"
  },
  "language_info": {
   "codemirror_mode": {
    "name": "ipython",
    "version": 3
   },
   "file_extension": ".py",
   "mimetype": "text/x-python",
   "name": "python",
   "nbconvert_exporter": "python",
   "pygments_lexer": "ipython3",
   "version": "3.11.0"
  }
 },
 "nbformat": 4,
 "nbformat_minor": 2
}
